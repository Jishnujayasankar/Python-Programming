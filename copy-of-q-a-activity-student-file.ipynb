{
  "nbformat": 4,
  "nbformat_minor": 0,
  "metadata": {
    "kernelspec": {
      "display_name": "Python 3",
      "language": "python",
      "name": "python3"
    },
    "language_info": {
      "codemirror_mode": {
        "name": "ipython",
        "version": 3
      },
      "file_extension": ".py",
      "mimetype": "text/x-python",
      "name": "python",
      "nbconvert_exporter": "python",
      "pygments_lexer": "ipython3",
      "version": "3.7.6"
    },
    "colab": {
      "name": "Copy of Q&A activity student file.ipynb",
      "provenance": [],
      "collapsed_sections": [],
      "include_colab_link": true
    }
  },
  "cells": [
    {
      "cell_type": "markdown",
      "metadata": {
        "id": "view-in-github",
        "colab_type": "text"
      },
      "source": [
        "<a href=\"https://colab.research.google.com/gist/Jishnujayasankar/974ffea668d0cf3ac647ccc651465c35/copy-of-q-a-activity-student-file.ipynb\" target=\"_parent\"><img src=\"https://colab.research.google.com/assets/colab-badge.svg\" alt=\"Open In Colab\"/></a>"
      ]
    },
    {
      "cell_type": "markdown",
      "metadata": {
        "id": "4z_Z-K1tlrS7"
      },
      "source": [
        "## 1. Complete the following code to find the area of an equilateral triangle. Output should be as displayed"
      ]
    },
    {
      "cell_type": "code",
      "metadata": {
        "id": "rP2qFD_SlrS_",
        "colab": {
          "base_uri": "https://localhost:8080/"
        },
        "outputId": "2d0cf2df-e541-48a3-925a-4b7e9e5bb310"
      },
      "source": [
        "import math\n",
        "side = float(input(\"Enter the side of the equilateral triangle: \"))\n",
        "area = ((math.sqrt(3))/4)*pow(side,2)\n",
        "print(\"Area=\",area)"
      ],
      "execution_count": null,
      "outputs": [
        {
          "output_type": "stream",
          "name": "stdout",
          "text": [
            "Enter the side of the equilateral triangle: 5\n",
            "Area= 10.825317547305483\n"
          ]
        }
      ]
    },
    {
      "cell_type": "markdown",
      "metadata": {
        "id": "TjVKjIfclrTB"
      },
      "source": [
        "## 2. Write a program to count the number of each characters in a string"
      ]
    },
    {
      "cell_type": "code",
      "metadata": {
        "id": "JY5seVUQlrTC",
        "colab": {
          "base_uri": "https://localhost:8080/"
        },
        "outputId": "26cb85b8-1337-4752-9566-d8d2a8640b6c"
      },
      "source": [
        "str=input(\"Enter a string:\")\n",
        "lst=[]\n",
        "for char in str:\n",
        "  if char not in lst:\n",
        "    lst.append(char)\n",
        "for char in lst:\n",
        "  print(char,\"=\",str.count(char))\n",
        "  \n",
        "  "
      ],
      "execution_count": null,
      "outputs": [
        {
          "output_type": "stream",
          "name": "stdout",
          "text": [
            "Enter a string:malayalam\n",
            "m = 2\n",
            "a = 4\n",
            "l = 2\n",
            "y = 1\n"
          ]
        }
      ]
    },
    {
      "cell_type": "markdown",
      "metadata": {
        "id": "l3LCULfklrTD"
      },
      "source": [
        "## Write a program to find the area and perimeter of a rectangle using functions"
      ]
    },
    {
      "cell_type": "code",
      "metadata": {
        "id": "8haQD8edlrTD",
        "colab": {
          "base_uri": "https://localhost:8080/"
        },
        "outputId": "c97113ff-ddf5-4698-cf41-618e222c8ac1"
      },
      "source": [
        "def rectangle(l,w):\n",
        "  print(\"Perimeter=\",2*(l+w))\n",
        "  print(\"Area=\",l*w)\n",
        "\n",
        "print(\"Enter 2 Sides of a Rectangle:\")\n",
        "length=int(input())\n",
        "width=int(input())\n",
        "rectangle(length,width)\n"
      ],
      "execution_count": null,
      "outputs": [
        {
          "output_type": "stream",
          "name": "stdout",
          "text": [
            "Enter 2 Sides of a Rectangle:\n",
            "5\n",
            "4\n",
            "Perimeter= 18\n",
            "Area= 20\n"
          ]
        }
      ]
    },
    {
      "cell_type": "markdown",
      "metadata": {
        "id": "JHK4ZdsflrTE"
      },
      "source": [
        "## 4. Write a program to print the fibonacci series till a specified number"
      ]
    },
    {
      "cell_type": "code",
      "metadata": {
        "id": "LyBEj-4SlrTE",
        "colab": {
          "base_uri": "https://localhost:8080/"
        },
        "outputId": "c3d1588e-c544-458f-c797-d9449806f08e"
      },
      "source": [
        "def fibonacci(num):\n",
        "  if(num==0):\n",
        "    return 0\n",
        "  elif(num==1):\n",
        "    return 1\n",
        "  else:\n",
        "    return (fibonacci(num-1)+fibonacci(num-2))\n",
        "num=int(input(\"Enter a Limit:\"))\n",
        "i=0\n",
        "while(i<num):\n",
        "  print(fibonacci(i))\n",
        "  i+=1\n",
        "\n",
        "    "
      ],
      "execution_count": null,
      "outputs": [
        {
          "output_type": "stream",
          "name": "stdout",
          "text": [
            "Enter a Limit:5\n",
            "0\n",
            "1\n",
            "1\n",
            "2\n",
            "3\n"
          ]
        }
      ]
    },
    {
      "cell_type": "markdown",
      "metadata": {
        "id": "u4uBUcQKlrTE"
      },
      "source": [
        "## 5. Complete the following code to find the minimum of 3 number using cinditional statements. Output should be as displayed"
      ]
    },
    {
      "cell_type": "code",
      "metadata": {
        "id": "XdZwrZjIlrTF",
        "colab": {
          "base_uri": "https://localhost:8080/"
        },
        "outputId": "1a21dbcd-c292-4db4-be4e-c914fcad29bc"
      },
      "source": [
        "a=int(input(\"First number :\"))\n",
        "b=int(input(\"Second number :\"))\n",
        "c=int(input(\"Third number :\"))\n",
        "if (a==b and a==c):\n",
        "    print(\"Entered numbers are equal!!!\")\n",
        "elif (a<b and a<c):\n",
        "    print(a,\" is smallest\")\n",
        "elif (b<a and b<c):\n",
        "    print(b,\" is smallest\")\n",
        "else:\n",
        "    print(c,\" is smallest\")"
      ],
      "execution_count": null,
      "outputs": [
        {
          "output_type": "stream",
          "name": "stdout",
          "text": [
            "First number :3\n",
            "Second number :-11\n",
            "Third number :12\n",
            "-11  is smallest\n"
          ]
        }
      ]
    },
    {
      "cell_type": "code",
      "metadata": {
        "colab": {
          "base_uri": "https://localhost:8080/"
        },
        "id": "FTqqtb1yMB84",
        "outputId": "e9d0d47e-c540-400b-c38b-c27d1461cdc9"
      },
      "source": [
        "a,b,c = input(\"Enter three numbers followed by space : \").split()\n",
        "\n",
        "print(\"First number :\",a)\n",
        "print(\"Second number :\",b)\n",
        "print(\"Third number :\",c)\n",
        "\n",
        "if (a==b and a==c):\n",
        "    print(\"Entered numbers are equal!!!\")\n",
        "elif (a<b and a<c):\n",
        "    print(a,\" is smallest\")\n",
        "elif (b<a and b<c):\n",
        "    print(b,\" is smallest\")\n",
        "else:\n",
        "    print(c,\" is smallest\")"
      ],
      "execution_count": null,
      "outputs": [
        {
          "output_type": "stream",
          "name": "stdout",
          "text": [
            "Enter three numbers followed by space : 3 -11 12\n",
            "First number : 3\n",
            "Second number : -11\n",
            "Third number : 12\n",
            "-11  is smallest\n"
          ]
        }
      ]
    },
    {
      "cell_type": "markdown",
      "metadata": {
        "id": "aR_CnToWlrTG"
      },
      "source": [
        "## 6. Write a program to print star pyramind. The number of rows should be taken as input from the user"
      ]
    },
    {
      "cell_type": "code",
      "metadata": {
        "id": "M37A-buplrTG",
        "colab": {
          "base_uri": "https://localhost:8080/"
        },
        "outputId": "3000a157-7453-4313-cad4-e57cc1fb5b7c"
      },
      "source": [
        "row=int(input(\"Enter number of rows: \"))\n",
        "k=0\n",
        "for i in range(1,row+1):\n",
        "    for y in range(1,(row-i)+1):\n",
        "        print(end=\"  \")   \n",
        "    while k!=(2*i-1):\n",
        "        print(\"* \",end=\"\")\n",
        "        k+= 1   \n",
        "    k=0\n",
        "    print()"
      ],
      "execution_count": null,
      "outputs": [
        {
          "output_type": "stream",
          "name": "stdout",
          "text": [
            "Enter number of rows: 5\n",
            "        * \n",
            "      * * * \n",
            "    * * * * * \n",
            "  * * * * * * * \n",
            "* * * * * * * * * \n"
          ]
        }
      ]
    },
    {
      "cell_type": "markdown",
      "metadata": {
        "id": "tlY6aFWBlrTH"
      },
      "source": [
        "## 7. Complete the following code to convert hour into seconds. Output should be as displayed"
      ]
    },
    {
      "cell_type": "code",
      "metadata": {
        "id": "YOZQFk7FlrTH",
        "colab": {
          "base_uri": "https://localhost:8080/"
        },
        "outputId": "2b4ce8dc-b10f-439b-fc3b-e14ce8d853ae"
      },
      "source": [
        "def to_seconds(t):\n",
        "    t=3600*t\n",
        "    return t\n",
        "time_in_hours = int(input(\"Enter time in Hours:\"))\n",
        "print(time_in_hours ,\" Hour is equal to\" ,to_seconds(time_in_hours) ,\" Seconds\")"
      ],
      "execution_count": null,
      "outputs": [
        {
          "output_type": "stream",
          "name": "stdout",
          "text": [
            "Enter time in Hours:12\n",
            "12  Hour is equal to 43200  Seconds\n"
          ]
        }
      ]
    },
    {
      "cell_type": "markdown",
      "metadata": {
        "id": "CnYorNiLlrTI"
      },
      "source": [
        "## 8. Write a program to print multiplication table as below"
      ]
    },
    {
      "cell_type": "code",
      "metadata": {
        "id": "dPQqDPuDlrTI",
        "colab": {
          "base_uri": "https://localhost:8080/"
        },
        "outputId": "659c4a76-6e75-432e-9ff6-1bb8a2c795b6"
      },
      "source": [
        "n=int(input(\"Enter a number to find the multiplication table:\"))\n",
        "for i in range(1,11):\n",
        "  print(i,\"*\",n,\"=\",i*n)"
      ],
      "execution_count": null,
      "outputs": [
        {
          "output_type": "stream",
          "name": "stdout",
          "text": [
            "Enter a number to find the multiplication table:4\n",
            "1 * 4 = 4\n",
            "2 * 4 = 8\n",
            "3 * 4 = 12\n",
            "4 * 4 = 16\n",
            "5 * 4 = 20\n",
            "6 * 4 = 24\n",
            "7 * 4 = 28\n",
            "8 * 4 = 32\n",
            "9 * 4 = 36\n",
            "10 * 4 = 40\n"
          ]
        }
      ]
    },
    {
      "cell_type": "markdown",
      "metadata": {
        "id": "Fiaez8iblrTI"
      },
      "source": [
        "## 9. Write a program to take your 5 favorite food as list and print each as 'I like Biriyani'"
      ]
    },
    {
      "cell_type": "code",
      "metadata": {
        "id": "39W1zFX7lrTJ",
        "colab": {
          "base_uri": "https://localhost:8080/"
        },
        "outputId": "7a5d4c1b-8ee0-4112-c2a5-c93566697c48"
      },
      "source": [
        "food=input(\"Enter your food list followed by space:\").split()\n",
        "for item in food:\n",
        "  print(\"I like\",item)"
      ],
      "execution_count": null,
      "outputs": [
        {
          "output_type": "stream",
          "name": "stdout",
          "text": [
            "Enter your food list followed by space:mango apple orenge\n",
            "I like mango\n",
            "I like apple\n",
            "I like orenge\n"
          ]
        }
      ]
    },
    {
      "cell_type": "markdown",
      "metadata": {
        "id": "3vlcDNNEP7d_"
      },
      "source": [
        "## 10. Find error(s) in the following code(if any) and rewrite code.\n",
        "\n"
      ]
    },
    {
      "cell_type": "code",
      "metadata": {
        "id": "coREkcY3P9sG",
        "colab": {
          "base_uri": "https://localhost:8080/"
        },
        "outputId": "81f196ca-f775-4325-b69f-6737ea1f5e77"
      },
      "source": [
        "x= int(input(\"Enter value of x:\"))\n",
        "for y in range(0,10):\n",
        "     if x==y:\n",
        "          print(\"They are equal\")\n",
        "     else:\n",
        "         print( \"They are unequal\")"
      ],
      "execution_count": null,
      "outputs": [
        {
          "output_type": "stream",
          "name": "stdout",
          "text": [
            "Enter value of x:5\n",
            "They are unequal\n",
            "They are unequal\n",
            "They are unequal\n",
            "They are unequal\n",
            "They are unequal\n",
            "They are equal\n",
            "They are unequal\n",
            "They are unequal\n",
            "They are unequal\n",
            "They are unequal\n"
          ]
        }
      ]
    }
  ]
}